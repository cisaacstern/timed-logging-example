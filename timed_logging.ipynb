{
 "cells": [
  {
   "cell_type": "code",
   "execution_count": null,
   "id": "d8c5087b",
   "metadata": {},
   "outputs": [],
   "source": [
    "# uncomment and install `pangeo-forge-recipes` from feature branch at start-up\n",
    "# !pip install git+https://github.com/cisaacstern/pangeo-forge-recipes.git@streaming-transfer-logs"
   ]
  },
  {
   "cell_type": "code",
   "execution_count": 1,
   "id": "3f66af22",
   "metadata": {},
   "outputs": [],
   "source": [
    "from recipe_helpers import setup_logging, setup_targets\n",
    "\n",
    "setup_logging()"
   ]
  },
  {
   "cell_type": "markdown",
   "id": "1d512206",
   "metadata": {},
   "source": [
    "# Example 1:\n",
    "## Small source file, range requested over HTTP"
   ]
  },
  {
   "cell_type": "code",
   "execution_count": 2,
   "id": "2302be18",
   "metadata": {},
   "outputs": [
    {
     "name": "stdout",
     "output_type": "stream",
     "text": [
      "Targets for recipe \"noaa_oisst\" set to:\n",
      "    input_cache: input_cache/noaa_oisst\n",
      "    metadata_cache: metadata/noaa_oisst\n",
      "    target: N/A, not needed for caching example\n",
      "    \n"
     ]
    }
   ],
   "source": [
    "from recipes.noaa_oisst import recipe\n",
    "rec = setup_targets(recipe, name=\"noaa_oisst\")"
   ]
  },
  {
   "cell_type": "code",
   "execution_count": 3,
   "id": "bf38960a",
   "metadata": {},
   "outputs": [
    {
     "name": "stdout",
     "output_type": "stream",
     "text": [
      "pangeo_forge_recipes.recipes.xarray_zarr - INFO - Caching input 'time-0'\n",
      "pangeo_forge_recipes.storage - INFO - Caching file 'https://www.ncei.noaa.gov/data/sea-surface-temperature-optimum-interpolation/v2.1/access/avhrr/198109/oisst-avhrr-v02r01.19810901.nc'\n",
      "pangeo_forge_recipes.storage - INFO - Coping remote file 'https://www.ncei.noaa.gov/data/sea-surface-temperature-optimum-interpolation/v2.1/access/avhrr/198109/oisst-avhrr-v02r01.19810901.nc' to cache\n",
      "pangeo_forge_recipes.storage - DEBUG - entering fs.open context manager for input_cache/noaa_oisst/fe866b608e5c7eafba93f06954124ba1-https_www.ncei.noaa.gov_data_sea-surface-temperature-optimum-interpolation_v2.1_access_avhrr_198109_oisst-avhrr-v02r01.19810901.nc\n",
      "pangeo_forge_recipes.storage - DEBUG - FSSpecTarget.open yielding <_io.BufferedWriter name='/Users/charlesstern1/Dropbox/pangeo/timed-logging-example/input_cache/noaa_oisst/fe866b608e5c7eafba93f06954124ba1-https_www.ncei.noaa.gov_data_sea-surface-temperature-optimum-interpolation_v2.1_access_avhrr_198109_oisst-avhrr-v02r01.19810901.nc'>\n",
      "pangeo_forge_recipes.storage - DEBUG - _copy_btw_filesystems total bytes copied: 1714749\n",
      "pangeo_forge_recipes.storage - DEBUG - avg throughput over 0.02 min: ~1351593 bytes/sec\n",
      "pangeo_forge_recipes.storage - DEBUG - FSSpecTarget.open yielded\n",
      "pangeo_forge_recipes.storage - DEBUG - _copy_btw_filesystems done\n"
     ]
    }
   ],
   "source": [
    "for input_name in rec.iter_inputs():\n",
    "    rec.cache_input(input_name)\n",
    "    break"
   ]
  },
  {
   "cell_type": "markdown",
   "id": "a8d82da1",
   "metadata": {},
   "source": [
    "# Example 2: \n",
    "## Larger source file, range requested over FTP "
   ]
  },
  {
   "cell_type": "code",
   "execution_count": 4,
   "id": "fc48bd7e",
   "metadata": {},
   "outputs": [
    {
     "name": "stdout",
     "output_type": "stream",
     "text": [
      "Targets for recipe \"HYCOM50/Region01_GS/int/fma\" set to:\n",
      "    input_cache: input_cache/HYCOM50-Region01_GS-int-fma\n",
      "    metadata_cache: metadata/HYCOM50-Region01_GS-int-fma\n",
      "    target: N/A, not needed for caching example\n",
      "    \n"
     ]
    }
   ],
   "source": [
    "from recipes.hycom import recipes\n",
    "\n",
    "key = \"HYCOM50/Region01_GS/int/fma\"\n",
    "rec = setup_targets(recipes[key], name=key)"
   ]
  },
  {
   "cell_type": "code",
   "execution_count": 5,
   "id": "4672f2bf",
   "metadata": {
    "scrolled": false
   },
   "outputs": [
    {
     "name": "stdout",
     "output_type": "stream",
     "text": [
      "pangeo_forge_recipes.recipes.xarray_zarr - INFO - Caching input 'time-0'\n",
      "pangeo_forge_recipes.storage - INFO - Caching file 'ftp://ftp.hycom.org/pub/xbxu/ATLc0.02/SWOT_ADAC/HYCOM50_E043_Feb_GS_daily.nc'\n",
      "pangeo_forge_recipes.storage - INFO - Coping remote file 'ftp://ftp.hycom.org/pub/xbxu/ATLc0.02/SWOT_ADAC/HYCOM50_E043_Feb_GS_daily.nc' to cache\n",
      "pangeo_forge_recipes.storage - DEBUG - entering fs.open context manager for input_cache/HYCOM50-Region01_GS-int-fma/3fcae1d70dba164317d164c5d7fdccea-ftp_ftp.hycom.org_pub_xbxu_atlc0.02_swot_adac_hycom50_e043_feb_gs_daily.nc\n",
      "pangeo_forge_recipes.storage - DEBUG - FSSpecTarget.open yielding <_io.BufferedWriter name='/Users/charlesstern1/Dropbox/pangeo/timed-logging-example/input_cache/HYCOM50-Region01_GS-int-fma/3fcae1d70dba164317d164c5d7fdccea-ftp_ftp.hycom.org_pub_xbxu_atlc0.02_swot_adac_hycom50_e043_feb_gs_daily.nc'>\n",
      "pangeo_forge_recipes.storage - DEBUG - _copy_btw_filesystems total bytes copied: 10000000\n",
      "pangeo_forge_recipes.storage - DEBUG - avg throughput over 0.03 min: ~5172502 bytes/sec\n",
      "pangeo_forge_recipes.storage - DEBUG - _copy_btw_filesystems total bytes copied: 30000000\n",
      "pangeo_forge_recipes.storage - DEBUG - avg throughput over 0.23 min: ~2159989 bytes/sec\n",
      "pangeo_forge_recipes.storage - DEBUG - _copy_btw_filesystems total bytes copied: 40000000\n",
      "pangeo_forge_recipes.storage - DEBUG - avg throughput over 0.26 min: ~2527045 bytes/sec\n",
      "pangeo_forge_recipes.storage - DEBUG - _copy_btw_filesystems total bytes copied: 50000000\n",
      "pangeo_forge_recipes.storage - DEBUG - avg throughput over 0.34 min: ~2471634 bytes/sec\n",
      "pangeo_forge_recipes.storage - DEBUG - _copy_btw_filesystems total bytes copied: 60000000\n",
      "pangeo_forge_recipes.storage - DEBUG - avg throughput over 0.37 min: ~2683709 bytes/sec\n",
      "pangeo_forge_recipes.storage - DEBUG - _copy_btw_filesystems total bytes copied: 70000000\n",
      "pangeo_forge_recipes.storage - DEBUG - avg throughput over 0.44 min: ~2680916 bytes/sec\n"
     ]
    },
    {
     "ename": "KeyboardInterrupt",
     "evalue": "",
     "output_type": "error",
     "traceback": [
      "\u001b[0;31m---------------------------------------------------------------------------\u001b[0m",
      "\u001b[0;31mKeyboardInterrupt\u001b[0m: "
     ]
    }
   ],
   "source": [
    "# Large inputs; consider `KeyboardInterrupt`ing\n",
    "# after you've seen some of the logs\n",
    "\n",
    "for input_name in rec.iter_inputs():\n",
    "    rec.cache_input(input_name)\n",
    "    break"
   ]
  },
  {
   "cell_type": "markdown",
   "id": "d33c5bd6",
   "metadata": {},
   "source": [
    "# Example 3:\n",
    "## Smallish source file, streamed over HTTP"
   ]
  },
  {
   "cell_type": "code",
   "execution_count": 6,
   "id": "7a20a1e8",
   "metadata": {},
   "outputs": [
    {
     "name": "stdout",
     "output_type": "stream",
     "text": [
      "Targets for recipe \"NASA-SMAP-SSS/JPL/8day\" set to:\n",
      "    input_cache: input_cache/NASA-SMAP-SSS-JPL-8day\n",
      "    metadata_cache: metadata/NASA-SMAP-SSS-JPL-8day\n",
      "    target: N/A, not needed for caching example\n",
      "    \n"
     ]
    }
   ],
   "source": [
    "from recipes.nasa_smap_sss import recipes\n",
    "\n",
    "key = \"NASA-SMAP-SSS/JPL/8day\"\n",
    "rec = setup_targets(recipes[key], name=key)"
   ]
  },
  {
   "cell_type": "code",
   "execution_count": 7,
   "id": "9df692f1",
   "metadata": {},
   "outputs": [
    {
     "name": "stdout",
     "output_type": "stream",
     "text": [
      "pangeo_forge_recipes.recipes.xarray_zarr - INFO - Caching input 'time-0'\n",
      "pangeo_forge_recipes.storage - INFO - Caching file 'https://podaac-opendap.jpl.nasa.gov/opendap/allData/smap/L3/JPL/V5.0/8day_running/2015/120/SMAP_L3_SSS_20150504_8DAYS_V5.0.nc'\n",
      "pangeo_forge_recipes.storage - INFO - Coping remote file 'https://podaac-opendap.jpl.nasa.gov/opendap/allData/smap/L3/JPL/V5.0/8day_running/2015/120/SMAP_L3_SSS_20150504_8DAYS_V5.0.nc' to cache\n",
      "pangeo_forge_recipes.storage - DEBUG - entering fs.open context manager for input_cache/NASA-SMAP-SSS-JPL-8day/2c9511f0319cc49038047b83b6ea3c77-https_podaac-opendap.jpl.nasa.gov_opendap_alldata_smap_l3_jpl_v5.0_8day_running_2015_120_smap_l3_sss_20150504_8days_v5.0.nc\n",
      "pangeo_forge_recipes.storage - DEBUG - FSSpecTarget.open yielding <_io.BufferedWriter name='/Users/charlesstern1/Dropbox/pangeo/timed-logging-example/input_cache/NASA-SMAP-SSS-JPL-8day/2c9511f0319cc49038047b83b6ea3c77-https_podaac-opendap.jpl.nasa.gov_opendap_alldata_smap_l3_jpl_v5.0_8day_running_2015_120_smap_l3_sss_20150504_8days_v5.0.nc'>\n",
      "pangeo_forge_recipes.storage - DEBUG - _copy_btw_filesystems total bytes copied: 8184\n",
      "pangeo_forge_recipes.storage - DEBUG - avg throughput over 0.0 min: ~13309881 bytes/sec\n",
      "pangeo_forge_recipes.storage - DEBUG - FSSpecTarget.open yielded\n",
      "pangeo_forge_recipes.storage - DEBUG - _copy_btw_filesystems done\n"
     ]
    }
   ],
   "source": [
    "rec.fsspec_open_kwargs = {\"block_size\": 0}\n",
    "\n",
    "for input_name in rec.iter_inputs():\n",
    "    rec.cache_input(input_name)\n",
    "    break"
   ]
  },
  {
   "cell_type": "code",
   "execution_count": null,
   "id": "692ca123",
   "metadata": {},
   "outputs": [],
   "source": []
  }
 ],
 "metadata": {
  "kernelspec": {
   "display_name": "pangeo-forge3.8",
   "language": "python",
   "name": "pangeo-forge3.8"
  },
  "language_info": {
   "codemirror_mode": {
    "name": "ipython",
    "version": 3
   },
   "file_extension": ".py",
   "mimetype": "text/x-python",
   "name": "python",
   "nbconvert_exporter": "python",
   "pygments_lexer": "ipython3",
   "version": "3.8.8"
  }
 },
 "nbformat": 4,
 "nbformat_minor": 5
}
